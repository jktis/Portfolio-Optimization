{
 "cells": [
  {
   "cell_type": "code",
   "execution_count": 1,
   "metadata": {},
   "outputs": [],
   "source": [
    "import numpy as np \n",
    "import sys\n",
    "sys.path.append('..')\n",
    "from PortfolioOptimization import OptP"
   ]
  },
  {
   "cell_type": "markdown",
   "metadata": {},
   "source": [
    "# Portfolio optimization under transaction costs\n",
    "\n",
    "The optimization problem is given by \n",
    "\n",
    "\\begin{align}\n",
    "    \\max_{x^+,x^-}\\; & x' \\mu - k' (x^+ + x^-) - \\gamma x' \\mathbb V x/2 \\\\\n",
    "    \\text{s.t.} & \\nonumber \\\\ \n",
    "     x_i^+,x_i^- & \\geq 0\\; \\forall i \\\\\n",
    "     x^+ - x^- + \\bar{x} & = x \\\\\n",
    "    \\mathbf 1'x & = 1 \\\\\n",
    "    x_i & \\geq 0\\; \\forall i \\\\ \n",
    "    \\text{optional:} & \\nonumber \\\\\n",
    "     x^{+\\prime} x^- & = 0\n",
    "\\end{align}\n",
    "\n",
    "where $x$ is a vector of the assets' weights in the portfolio, $\\mu$ is a vector of expected returns, $k$ is a vector of proportional transaction costs, $x^+$ and $x^-$ are vectors of increases and decreases in asset allocations, respectively, $\\gamma$ is the investor's risk aversion, $\\mathbb V$ is the assets' covariance matrix and $\\bar{x}$ is the initial asset allocation."
   ]
  },
  {
   "cell_type": "markdown",
   "metadata": {},
   "source": [
    "For the two asset case we can get an analytical solution.\n",
    "\n",
    "The Karush-Kuhn-Tucker conditions (including the optional constraint, although the optional constraint does not matter for the two asset case) are\n",
    "\\begin{align}\n",
    "-\\mu + k + \\gamma V'x + \\lambda \\mathbb{1} - \\nu + \\omega x^{-} - \\theta_{+} & = 0 \\\\\n",
    "\\mu + k - \\gamma V'x - \\lambda \\mathbb{1} + \\nu + \\omega x^{+} - \\theta_{-} & = 0   \\\\\n",
    "x & = x^{+} - x^{-} + \\bar{x} \\\\\n",
    "\\mathbb{1}'x & = 1 \\\\\n",
    "\\nu_i x_i & = 0\\;\\forall i \\\\\n",
    "x & \\geq 0 \\\\\n",
    "\\nu & \\geq 0 \\\\\n",
    "x^{+\\prime} x^{-} & = 0 \\\\\n",
    "x_i^{+}\\theta_{+i} & = 0\\;\\forall i \\\\\n",
    "x_i^{-}\\theta_{-i} & = 0\\;\\forall i \\\\\n",
    "x^{+},x^{-},\\theta_{+},\\theta_{-} & \\geq 0\n",
    "\\end{align}"
   ]
  },
  {
   "cell_type": "markdown",
   "metadata": {},
   "source": [
    "Solving for the final allocation $x_i$, $i=1,2$, we obtain\n",
    "\\begin{align}\n",
    "\\hat{x}_1 & := \\min\\{1, \\max\\{0, \\frac{(\\mu_1 - \\mu_2 - k_1 - k_2)/\\gamma + V_{(22)} - V_d}{V_{(11)} + V_{(22)} - 2V_d} \\} \\} \\\\ \n",
    "\\tilde{x}_2 & := \\min\\{1, \\max\\{0, \\frac{(\\mu_2 - \\mu_1 - k_1 - k_2)/\\gamma + V_{(11)} - V_d}{V_{(11)} + V_{(22)} - 2V_d} \\} \\} \\\\\n",
    "x^* & = \\begin{cases}\n",
    "\\begin{pmatrix} \\hat{x}_1 \\\\\n",
    "1-\\hat{x}_1 \\end{pmatrix} & \\text{if $\\hat{x}_1>\\bar{x}_1$} \\\\\n",
    "\\begin{pmatrix} 1-\\tilde{x}_2 \\\\\n",
    "\\tilde{x}_2 \\end{pmatrix} & \\text{if $\\tilde{x}_2>\\bar{x}_2$} \\\\\n",
    "\\bar{x}  & \\text{otherwise} \n",
    "\\end{cases}  \n",
    "\\end{align}\n",
    "Note that the transaction costs induce a no-trade region, where keeping the starting portfolio is the optimal solution."
   ]
  },
  {
   "cell_type": "markdown",
   "metadata": {},
   "source": [
    "Let see if the optimization tool outputs the correct result."
   ]
  },
  {
   "cell_type": "code",
   "execution_count": 2,
   "metadata": {},
   "outputs": [],
   "source": [
    "def opt_x_analytical(mu,g,k,V,x0):\n",
    "    \"\"\"Optimal asset allocation under transaction costs; 2 asset case.\"\"\"\n",
    "    x1 = ((mu[0] - mu[1] - k[0] - k[1])/g + V[1,1] - V[0,1])/(V[0,0]+V[1,1]-2*V[0,1])\n",
    "    x1 = min([1, max([0,x1])])\n",
    "    x2 = ((mu[1] - mu[0] - k[1] - k[0])/g + V[0,0] - V[0,1])/(V[0,0]+V[1,1]-2*V[0,1])\n",
    "    x2 = min([1, max([0,x2])])    \n",
    "    if x1>x0[0]:\n",
    "        x2 = 1-x1\n",
    "        return x1,x2\n",
    "    elif x2>x0[1]:\n",
    "        x1 = 1-x2\n",
    "        return x1,x2\n",
    "    else:\n",
    "        return x0"
   ]
  },
  {
   "cell_type": "code",
   "execution_count": 3,
   "metadata": {},
   "outputs": [],
   "source": [
    "# simulate some data\n",
    "n = 2\n",
    "mu = np.sort(1 + np.random.rand(n))\n",
    "Q = np.random.uniform(-1,1,size=(n,n)) \n",
    "V = Q.T@Q \n",
    "V /= V[0,0]\n",
    "x0 = np.array([1/n]*n)\n",
    "k = np.random.rand(n)/10\n",
    "g = 5 # risk aversion parameter"
   ]
  },
  {
   "cell_type": "code",
   "execution_count": 4,
   "metadata": {},
   "outputs": [
    {
     "name": "stdout",
     "output_type": "stream",
     "text": [
      "Expected Return:\n",
      "1.73, 1.78\n",
      "Covariance Matrix:\n",
      "1.00, -0.07\n",
      "-0.07, 0.56\n",
      "Transaction costs:\n",
      "0.0387, 0.0381\n",
      "Optimal allocation, analytical (in %):\n",
      "37.53, 62.47\n"
     ]
    }
   ],
   "source": [
    "x1 = opt_x_analytical(mu,g,k,V,x0)\n",
    "print(\"Expected Return:\\n%.2f, %.2f\" % (mu[0],mu[1]))\n",
    "print(\"Covariance Matrix:\\n%s\" % '\\n'.join([', '.join(['%.2f' % v for v in row]) for row in V]) )\n",
    "print(\"Transaction costs:\\n%s\" % ', '.join(['%.4f' % c for c in k]))\n",
    "print(\"Optimal allocation, analytical (in %%):\\n%s\" % ', '.join(['%.2f' % (x*100) for x in x1]))"
   ]
  },
  {
   "cell_type": "code",
   "execution_count": 5,
   "metadata": {},
   "outputs": [],
   "source": [
    "# numerical solution\n",
    "op = OptP(mu,k,V,g,x0)"
   ]
  },
  {
   "cell_type": "code",
   "execution_count": 6,
   "metadata": {},
   "outputs": [
    {
     "name": "stdout",
     "output_type": "stream",
     "text": [
      "Optimal allocation using quadratic programming (ie. w/o optional constraint):\n",
      "37.53, 62.47\n"
     ]
    }
   ],
   "source": [
    "op.optimize_p(solver='qp')\n",
    "\n",
    "x_qp = op.solution['x']\n",
    "print(\"Optimal allocation using quadratic programming (ie. w/o optional constraint):\\n%s\" % ', '.join(['%.2f' % (x*100) for x in x_qp]))"
   ]
  },
  {
   "cell_type": "code",
   "execution_count": 7,
   "metadata": {},
   "outputs": [
    {
     "name": "stdout",
     "output_type": "stream",
     "text": [
      "Optimal allocation using scipy (w/o optional constraint):\n",
      "37.52, 62.48\n"
     ]
    }
   ],
   "source": [
    "op.optimize_p(solver='scipy',init='at_zero',nonlin_constr=False)\n",
    "\n",
    "x_scipy = op.solution['x']\n",
    "print(\"Optimal allocation using scipy (w/o optional constraint):\\n%s\" % ', '.join(['%.2f' % (x*100) for x in x_scipy]))"
   ]
  },
  {
   "cell_type": "code",
   "execution_count": 8,
   "metadata": {},
   "outputs": [
    {
     "name": "stderr",
     "output_type": "stream",
     "text": [
      "/home/simon/anaconda3/lib/python3.7/site-packages/scipy/optimize/_trustregion_constr/projections.py:182: UserWarning: Singular Jacobian matrix. Using SVD decomposition to perform the factorizations.\n",
      "  warn('Singular Jacobian matrix. Using SVD decomposition to ' +\n",
      "/home/simon/anaconda3/lib/python3.7/site-packages/scipy/optimize/_hessian_update_strategy.py:187: UserWarning: delta_grad == 0.0. Check if the approximated function is linear. If the function is linear better results can be obtained by defining the Hessian as zero instead of using quasi-Newton approximations.\n",
      "  'approximations.', UserWarning)\n"
     ]
    },
    {
     "name": "stdout",
     "output_type": "stream",
     "text": [
      "Optimal allocation using scipy (with the optional constraint):\n",
      "37.53, 62.47\n"
     ]
    }
   ],
   "source": [
    "op.optimize_p(solver='scipy',init='random',n_repeat=10,alpha=5,nonlin_constr=True,supply_H_and_jac=False)\n",
    "\n",
    "x_scipy_nl = op.solution['x']\n",
    "print(\"Optimal allocation using scipy (with the optional constraint):\\n%s\" % ', '.join(['%.2f' % (x*100) for x in x_scipy_nl]))"
   ]
  },
  {
   "cell_type": "code",
   "execution_count": 9,
   "metadata": {},
   "outputs": [
    {
     "name": "stdout",
     "output_type": "stream",
     "text": [
      "Optimal allocation using scipy (with the optional constraint):\n",
      "37.53, 62.47\n"
     ]
    }
   ],
   "source": [
    "op.optimize_p(solver='scipy',init='random',n_repeat=10,alpha=5,nonlin_constr=True,supply_H_and_jac=True)\n",
    "\n",
    "x_scipy_nl = op.solution['x']\n",
    "print(\"Optimal allocation using scipy (with the optional constraint):\\n%s\" % ', '.join(['%.2f' % (x*100) for x in x_scipy_nl]))"
   ]
  },
  {
   "cell_type": "markdown",
   "metadata": {},
   "source": [
    "## Utility and Variance\n",
    "We can also get the utility for a given change in portfolio weights and the portfolio variance."
   ]
  },
  {
   "cell_type": "code",
   "execution_count": 10,
   "metadata": {},
   "outputs": [
    {
     "name": "stdout",
     "output_type": "stream",
     "text": [
      "Investor utility:\n",
      " 0.9357442889319956 \n",
      "\n",
      "Portfolio Variance:\n",
      " 0.32662792809345154 \n",
      "\n",
      "Portfolio Expected Return:\n",
      " 1.7618935232665447 \n",
      "\n",
      "Portfolio implementation cost:\n",
      " 0.009579414100920142 \n",
      "\n",
      "Portfolio Expected Return net of transaction costs:\n",
      " 1.7618935232665447 \n",
      "\n"
     ]
    }
   ],
   "source": [
    "print(\"Investor utility:\\n\",op.utility(op.solution['dx']),'\\n')\n",
    "print(\"Portfolio Variance:\\n\",op.portfolio_var(op.solution['x']),'\\n')\n",
    "print(\"Portfolio Expected Return:\\n\",op.portfolio_return(op.solution['dx'], gross=True),'\\n')\n",
    "print(\"Portfolio implementation cost:\\n\",op.portfolio_implcost(op.solution['dx']),'\\n')\n",
    "print(\"Portfolio Expected Return net of transaction costs:\\n\",op.portfolio_return(op.solution['dx'], gross=True),'\\n')"
   ]
  },
  {
   "cell_type": "code",
   "execution_count": null,
   "metadata": {},
   "outputs": [],
   "source": []
  }
 ],
 "metadata": {
  "kernelspec": {
   "display_name": "Python 3",
   "language": "python",
   "name": "python3"
  },
  "language_info": {
   "codemirror_mode": {
    "name": "ipython",
    "version": 3
   },
   "file_extension": ".py",
   "mimetype": "text/x-python",
   "name": "python",
   "nbconvert_exporter": "python",
   "pygments_lexer": "ipython3",
   "version": "3.7.6"
  }
 },
 "nbformat": 4,
 "nbformat_minor": 4
}
